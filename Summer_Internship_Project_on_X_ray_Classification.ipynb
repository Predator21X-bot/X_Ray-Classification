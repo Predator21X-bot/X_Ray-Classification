{
  "nbformat": 4,
  "nbformat_minor": 0,
  "metadata": {
    "colab": {
      "name": "Summer_Internship_Project_on X-ray Classification.ipynb",
      "provenance": [],
      "collapsed_sections": []
    },
    "kernelspec": {
      "name": "python3",
      "display_name": "Python 3"
    },
    "language_info": {
      "name": "python"
    }
  },
  "cells": [
    {
      "cell_type": "code",
      "source": [
        "import os\n",
        "os.environ['KAGGLE_USERNAME'] = \"sprihasinha\"\n",
        "os.environ['KAGGLE_KEY'] = \"b85d5299a8a1b65f252d7fb521032c38\""
      ],
      "metadata": {
        "id": "34nknTeSV1Xo"
      },
      "execution_count": null,
      "outputs": []
    },
    {
      "cell_type": "code",
      "source": [
        "!kaggle datasets download -d fusicfenta/chest-xray-for-covid19-detection"
      ],
      "metadata": {
        "colab": {
          "base_uri": "https://localhost:8080/"
        },
        "id": "PsAP9SR0V31D",
        "outputId": "d1946e50-25f3-47d8-becc-d6b7d5a2824a"
      },
      "execution_count": null,
      "outputs": [
        {
          "output_type": "stream",
          "name": "stdout",
          "text": [
            "Downloading chest-xray-for-covid19-detection.zip to /content\n",
            " 97% 170M/176M [00:02<00:00, 91.7MB/s]\n",
            "100% 176M/176M [00:02<00:00, 73.8MB/s]\n"
          ]
        }
      ]
    },
    {
      "cell_type": "code",
      "source": [
        "!unzip \"/content/chest-xray-for-covid19-detection.zip\""
      ],
      "metadata": {
        "colab": {
          "base_uri": "https://localhost:8080/"
        },
        "id": "qMxj6_H6V6QC",
        "outputId": "98210e26-1cbe-48f9-851a-4baf67bb72c8"
      },
      "execution_count": null,
      "outputs": [
        {
          "output_type": "stream",
          "name": "stdout",
          "text": [
            "Archive:  /content/chest-xray-for-covid19-detection.zip\n",
            "  inflating: Dataset/Prediction/NORMAL2-IM-0338-0001.jpeg  \n",
            "  inflating: Dataset/Prediction/NORMAL2-IM-0339-0001.jpeg  \n",
            "  inflating: Dataset/Prediction/NORMAL2-IM-0340-0001.jpeg  \n",
            "  inflating: Dataset/Prediction/NORMAL2-IM-0341-0001.jpeg  \n",
            "  inflating: Dataset/Prediction/NORMAL2-IM-0352-0001.jpeg  \n",
            "  inflating: Dataset/Prediction/NORMAL2-IM-0353-0001.jpeg  \n",
            "  inflating: Dataset/Prediction/NORMAL2-IM-0354-0001.jpeg  \n",
            "  inflating: Dataset/Prediction/NORMAL2-IM-0357-0001.jpeg  \n",
            "  inflating: Dataset/Prediction/NORMAL2-IM-0370-0001.jpeg  \n",
            "  inflating: Dataset/Prediction/NORMAL2-IM-0372-0001.jpeg  \n",
            "  inflating: Dataset/Prediction/NORMAL2-IM-0373-0001.jpeg  \n",
            "  inflating: Dataset/Prediction/NORMAL2-IM-0374-0001.jpeg  \n",
            "  inflating: Dataset/Prediction/SARS-10.1148rg.242035193-g04mr34g0-Fig8a-day0.jpeg  \n",
            "  inflating: Dataset/Prediction/SARS-10.1148rg.242035193-g04mr34g0-Fig8b-day5.jpeg  \n",
            "  inflating: Dataset/Prediction/SARS-10.1148rg.242035193-g04mr34g0-Fig8c-day10.jpeg  \n",
            "  inflating: Dataset/Prediction/SARS-10.1148rg.242035193-g04mr34g04a-Fig4a-day7.jpeg  \n",
            "  inflating: Dataset/Prediction/SARS-10.1148rg.242035193-g04mr34g04b-Fig4b-day12.jpeg  \n",
            "  inflating: Dataset/Prediction/SARS-10.1148rg.242035193-g04mr34g05x-Fig5-day9.jpeg  \n",
            "  inflating: Dataset/Prediction/ryct.2020200028.fig1a.jpeg  \n",
            "  inflating: Dataset/Prediction/ryct.2020200034.fig2.jpeg  \n",
            "  inflating: Dataset/Prediction/ryct.2020200034.fig5-day0.jpeg  \n",
            "  inflating: Dataset/Prediction/ryct.2020200034.fig5-day4.jpeg  \n",
            "  inflating: Dataset/Prediction/ryct.2020200034.fig5-day7.jpeg  \n",
            "  inflating: Dataset/Train/Covid/01E392EE-69F9-4E33-BFCE-E5C968654078.jpeg  \n",
            "  inflating: Dataset/Train/Covid/03BF7561-A9BA-4C3C-B8A0-D3E585F73F3C.jpeg  \n",
            "  inflating: Dataset/Train/Covid/1-s2.0-S0140673620303706-fx1_lrg.jpg  \n",
            "  inflating: Dataset/Train/Covid/1-s2.0-S0929664620300449-gr2_lrg-a.jpg  \n",
            "  inflating: Dataset/Train/Covid/1-s2.0-S0929664620300449-gr2_lrg-b.jpg  \n",
            "  inflating: Dataset/Train/Covid/1-s2.0-S0929664620300449-gr2_lrg-c.jpg  \n",
            "  inflating: Dataset/Train/Covid/1-s2.0-S0929664620300449-gr2_lrg-d.jpg  \n",
            "  inflating: Dataset/Train/Covid/1-s2.0-S1684118220300608-main.pdf-001.jpg  \n",
            "  inflating: Dataset/Train/Covid/1-s2.0-S1684118220300608-main.pdf-002.jpg  \n",
            "  inflating: Dataset/Train/Covid/1-s2.0-S1684118220300682-main.pdf-002-a1.png  \n",
            "  inflating: Dataset/Train/Covid/1-s2.0-S1684118220300682-main.pdf-002-a2.png  \n",
            "  inflating: Dataset/Train/Covid/1-s2.0-S1684118220300682-main.pdf-003-b1.png  \n",
            "  inflating: Dataset/Train/Covid/1-s2.0-S1684118220300682-main.pdf-003-b2.png  \n",
            "  inflating: Dataset/Train/Covid/1.CXRCTThoraximagesofCOVID-19fromSingapore.pdf-000-fig1a.png  \n",
            "  inflating: Dataset/Train/Covid/1.CXRCTThoraximagesofCOVID-19fromSingapore.pdf-000-fig1b.png  \n",
            "  inflating: Dataset/Train/Covid/1.CXRCTThoraximagesofCOVID-19fromSingapore.pdf-001-fig2a.png  \n",
            "  inflating: Dataset/Train/Covid/1.CXRCTThoraximagesofCOVID-19fromSingapore.pdf-001-fig2b.png  \n",
            "  inflating: Dataset/Train/Covid/1.CXRCTThoraximagesofCOVID-19fromSingapore.pdf-002-fig3a.png  \n",
            "  inflating: Dataset/Train/Covid/1.CXRCTThoraximagesofCOVID-19fromSingapore.pdf-002-fig3b.png  \n",
            "  inflating: Dataset/Train/Covid/1.CXRCTThoraximagesofCOVID-19fromSingapore.pdf-003-fig4a.png  \n",
            "  inflating: Dataset/Train/Covid/1.CXRCTThoraximagesofCOVID-19fromSingapore.pdf-003-fig4b.png  \n",
            "  inflating: Dataset/Train/Covid/1312A392-67A3-4EBF-9319-810CF6DA5EF6.jpeg  \n",
            "  inflating: Dataset/Train/Covid/16654_1_1.png  \n",
            "  inflating: Dataset/Train/Covid/16654_2_1.jpg  \n",
            "  inflating: Dataset/Train/Covid/16654_4_1.jpg  \n",
            "  inflating: Dataset/Train/Covid/16660_1_1.jpg  \n",
            "  inflating: Dataset/Train/Covid/16660_2_1.jpg  \n",
            "  inflating: Dataset/Train/Covid/16660_3_1.jpg  \n",
            "  inflating: Dataset/Train/Covid/16660_4_1.jpg  \n",
            "  inflating: Dataset/Train/Covid/16663_1_1.jpg  \n",
            "  inflating: Dataset/Train/Covid/16664_1_1.jpg  \n",
            "  inflating: Dataset/Train/Covid/16669_1_1.jpeg  \n",
            "  inflating: Dataset/Train/Covid/16669_3_1.jpeg  \n",
            "  inflating: Dataset/Train/Covid/16672_1_1.jpg  \n",
            "  inflating: Dataset/Train/Covid/16708_1_1.jpg  \n",
            "  inflating: Dataset/Train/Covid/16708_4_1.jpg  \n",
            "  inflating: Dataset/Train/Covid/16708_5_1.jpg  \n",
            "  inflating: Dataset/Train/Covid/1B734A89-A1BF-49A8-A1D3-66FAFA4FAC5D.jpeg  \n",
            "  inflating: Dataset/Train/Covid/2-chest-filmc.jpg  \n",
            "  inflating: Dataset/Train/Covid/23E99E2E-447C-46E5-8EB2-D35D12473C39.png  \n",
            "  inflating: Dataset/Train/Covid/2966893D-5DDF-4B68-9E2B-4979D5956C8E.jpeg  \n",
            "  inflating: Dataset/Train/Covid/2C26F453-AF3B-4517-BB9E-802CF2179543.jpeg  \n",
            "  inflating: Dataset/Train/Covid/31BA3780-2323-493F-8AED-62081B9C383B.jpeg  \n",
            "  inflating: Dataset/Train/Covid/353889E0-A1E8-4F9E-A0B8-F24F36BCFBFB.jpeg  \n",
            "  inflating: Dataset/Train/Covid/4-x-day1.jpg  \n",
            "  inflating: Dataset/Train/Covid/41591_2020_819_Fig1_HTML.webp-day10.png  \n",
            "  inflating: Dataset/Train/Covid/41591_2020_819_Fig1_HTML.webp-day5.png  \n",
            "  inflating: Dataset/Train/Covid/4e43e48d52c9e2d4c6c1fb9bc1544f_jumbo.jpeg  \n",
            "  inflating: Dataset/Train/Covid/53EC07C9-5CC6-4BE4-9B6F-D7B0D72AAA7E.jpeg  \n",
            "  inflating: Dataset/Train/Covid/58cb9263f16e94305c730685358e4e_jumbo.jpeg  \n",
            "  inflating: Dataset/Train/Covid/6C94A287-C059-46A0-8600-AFB95F4727B7.jpeg  \n",
            "  inflating: Dataset/Train/Covid/6CB4EFC6-68FA-4CD5-940C-BEFA8DAFE9A7.jpeg  \n",
            "  inflating: Dataset/Train/Covid/6b3bdbc31f65230b8cdcc3cef5f8ba8a-40ac-0.jpg  \n",
            "  inflating: Dataset/Train/Covid/6b44464d-73a7-4cf3-bbb6-ffe7168300e3.annot.original.jpeg  \n",
            "  inflating: Dataset/Train/Covid/7-fatal-covid19.jpg  \n",
            "  inflating: Dataset/Train/Covid/7AF6C1AF-D249-4BD2-8C26-449304105D03.jpeg  \n",
            "  inflating: Dataset/Train/Covid/7C69C012-7479-493F-8722-ABC29C60A2DD.jpeg  \n",
            "  inflating: Dataset/Train/Covid/80446565-E090-4187-A031-9D3CEAA586C8.jpeg  \n",
            "  inflating: Dataset/Train/Covid/85E52EB3-56E9-4D67-82DA-DEA247C82886.jpeg  \n",
            "  inflating: Dataset/Train/Covid/88de9d8c39e946abd495b37cd07d89e5-2ee6-0.jpg  \n",
            "  inflating: Dataset/Train/Covid/88de9d8c39e946abd495b37cd07d89e5-6531-0.jpg  \n",
            "  inflating: Dataset/Train/Covid/8FDE8DBA-CFBD-4B4C-B1A4-6F36A93B7E87.jpeg  \n",
            "  inflating: Dataset/Train/Covid/93FE0BB1-022D-4F24-9727-987A07975FFB.jpeg  \n",
            "  inflating: Dataset/Train/Covid/9C34AF49-E589-44D5-92D3-168B3B04E4A6.jpeg  \n",
            "  inflating: Dataset/Train/Covid/9fdd3c3032296fd04d2cad5d9070d4_jumbo.jpeg  \n",
            "  inflating: Dataset/Train/Covid/AR-1.jpg  \n",
            "  inflating: Dataset/Train/Covid/AR-2.jpg  \n",
            "  inflating: Dataset/Train/Covid/B2D20576-00B7-4519-A415-72DE29C90C34.jpeg  \n",
            "  inflating: Dataset/Train/Covid/CD50BA96-6982-4C80-AE7B-5F67ACDBFA56.jpeg  \n",
            "  inflating: Dataset/Train/Covid/E63574A7-4188-4C8D-8D17-9D67A18A1AFA.jpeg  \n",
            "  inflating: Dataset/Train/Covid/F2DE909F-E19C-4900-92F5-8F435B031AC6.jpeg  \n",
            "  inflating: Dataset/Train/Covid/F4341CE7-73C9-45C6-99C8-8567A5484B63.jpeg  \n",
            "  inflating: Dataset/Train/Covid/F63AB6CE-1968-4154-A70F-913AF154F53D.jpeg  \n",
            "  inflating: Dataset/Train/Covid/FE9F9A5D-2830-46F9-851B-1FF4534959BE.jpeg  \n",
            "  inflating: Dataset/Train/Covid/ae6c954c0039de4b5edee53865ffee43-e6c8-0.jpg  \n",
            "  inflating: Dataset/Train/Covid/all14238-fig-0001-m-b.jpg  \n",
            "  inflating: Dataset/Train/Covid/all14238-fig-0001-m-c.jpg  \n",
            "  inflating: Dataset/Train/Covid/auntminnie-a-2020_01_28_23_51_6665_2020_01_28_Vietnam_coronavirus.jpeg  \n",
            "  inflating: Dataset/Train/Covid/auntminnie-b-2020_01_28_23_51_6665_2020_01_28_Vietnam_coronavirus.jpeg  \n",
            "  inflating: Dataset/Train/Covid/auntminnie-c-2020_01_28_23_51_6665_2020_01_28_Vietnam_coronavirus.jpeg  \n",
            "  inflating: Dataset/Train/Covid/auntminnie-d-2020_01_28_23_51_6665_2020_01_28_Vietnam_coronavirus.jpeg  \n",
            "  inflating: Dataset/Train/Covid/ciaa199.pdf-001-a.png  \n",
            "  inflating: Dataset/Train/Covid/ciaa199.pdf-001-b.png  \n",
            "  inflating: Dataset/Train/Covid/ciaa199.pdf-001-c.png  \n",
            "  inflating: Dataset/Train/Covid/covid-19-caso-70-1-PA.jpg  \n",
            "  inflating: Dataset/Train/Covid/covid-19-infection-exclusive-gastrointestinal-symptoms-pa.png  \n",
            "  inflating: Dataset/Train/Covid/covid-19-pneumonia-12.jpg  \n",
            "  inflating: Dataset/Train/Covid/covid-19-pneumonia-14-PA.png  \n",
            "  inflating: Dataset/Train/Covid/covid-19-pneumonia-15-PA.jpg  \n",
            "  inflating: Dataset/Train/Covid/covid-19-pneumonia-19.jpg  \n",
            "  inflating: Dataset/Train/Covid/covid-19-pneumonia-2.jpg  \n",
            "  inflating: Dataset/Train/Covid/covid-19-pneumonia-20-pa-on-admission.jpg  \n",
            "  inflating: Dataset/Train/Covid/covid-19-pneumonia-20.jpg  \n",
            "  inflating: Dataset/Train/Covid/covid-19-pneumonia-22-day1-pa.png  \n",
            "  inflating: Dataset/Train/Covid/covid-19-pneumonia-22-day2-pa.png  \n",
            "  inflating: Dataset/Train/Covid/covid-19-pneumonia-28.png  \n",
            "  inflating: Dataset/Train/Covid/covid-19-pneumonia-30-PA.jpg  \n",
            "  inflating: Dataset/Train/Covid/covid-19-pneumonia-34.png  \n",
            "  inflating: Dataset/Train/Covid/covid-19-pneumonia-35-1.jpg  \n",
            "  inflating: Dataset/Train/Covid/covid-19-pneumonia-35-2.jpg  \n",
            "  inflating: Dataset/Train/Covid/covid-19-pneumonia-38-pa.jpg  \n",
            "  inflating: Dataset/Train/Covid/covid-19-pneumonia-44-day-0.jpeg  \n",
            "  inflating: Dataset/Train/Covid/covid-19-pneumonia-53.jpg  \n",
            "  inflating: Dataset/Train/Covid/covid-19-pneumonia-58-day-10.jpg  \n",
            "  inflating: Dataset/Train/Covid/covid-19-pneumonia-58-day-3.jpg  \n",
            "  inflating: Dataset/Train/Covid/covid-19-pneumonia-58-day-7.jpg  \n",
            "  inflating: Dataset/Train/Covid/covid-19-pneumonia-58-day-9.jpg  \n",
            "  inflating: Dataset/Train/Covid/covid-19-pneumonia-67.jpeg  \n",
            "  inflating: Dataset/Train/Covid/covid-19-pneumonia-7-PA.jpg  \n",
            "  inflating: Dataset/Train/Covid/covid-19-pneumonia-8.jpg  \n",
            "  inflating: Dataset/Train/Covid/covid-19-pneumonia-bilateral.jpg  \n",
            "  inflating: Dataset/Train/Covid/covid-19-pneumonia-evolution-over-a-week-1-day0-PA.jpg  \n",
            "  inflating: Dataset/Train/Covid/covid-19-pneumonia-mild.JPG  \n",
            "  inflating: Dataset/Train/Covid/extubation-1.jpg  \n",
            "  inflating: Dataset/Train/Covid/extubation-13.jpg  \n",
            "  inflating: Dataset/Train/Covid/extubation-4.jpg  \n",
            "  inflating: Dataset/Train/Covid/extubation-8.jpg  \n",
            "  inflating: Dataset/Train/Covid/fff49165-b22d-4bb4-b9d1-d5d62c52436c.annot.original.png  \n",
            "  inflating: Dataset/Train/Covid/figure1-5e71be566aa8714a04de3386-98-left.jpeg  \n",
            "  inflating: Dataset/Train/Covid/figure1-5e75d0940b71e1b702629659-98-right.jpeg  \n",
            "  inflating: Dataset/Train/Covid/gr1_lrg-a.jpg  \n",
            "  inflating: Dataset/Train/Covid/gr1_lrg-b.jpg  \n",
            "  inflating: Dataset/Train/Covid/kjr-21-e24-g001-l-a.jpg  \n",
            "  inflating: Dataset/Train/Covid/kjr-21-e24-g002-l-a.jpg  \n",
            "  inflating: Dataset/Train/Covid/kjr-21-e24-g003-l-a.jpg  \n",
            "  inflating: Dataset/Train/Covid/kjr-21-e25-g001-l-a.jpg  \n",
            "  inflating: Dataset/Train/Covid/lancet-case2a.jpg  \n",
            "  inflating: Dataset/Train/Covid/lancet-case2b.jpg  \n",
            "  inflating: Dataset/Train/Covid/nCoV-radiol.2020200269.fig1-day7.jpeg  \n",
            "  inflating: Dataset/Train/Covid/nejmc2001573_f1a.jpeg  \n",
            "  inflating: Dataset/Train/Covid/nejmc2001573_f1b.jpeg  \n",
            "  inflating: Dataset/Train/Covid/nejmoa2001191_f1-PA.jpeg  \n",
            "  inflating: Dataset/Train/Covid/nejmoa2001191_f3-PA.jpeg  \n",
            "  inflating: Dataset/Train/Covid/nejmoa2001191_f4.jpeg  \n",
            "  inflating: Dataset/Train/Covid/nejmoa2001191_f5-PA.jpeg  \n",
            "  inflating: Dataset/Train/Covid/paving.jpg  \n",
            "  inflating: Dataset/Train/Covid/radiol.2020200274.fig3d.png  \n",
            "  inflating: Dataset/Train/Covid/radiol.2020200490.fig3.jpeg  \n",
            "  inflating: Dataset/Train/Covid/ryct.2020200028.fig1a.jpeg  \n",
            "  inflating: Dataset/Train/Covid/ryct.2020200034.fig2.jpeg  \n",
            "  inflating: Dataset/Train/Covid/ryct.2020200034.fig5-day0.jpeg  \n",
            "  inflating: Dataset/Train/Covid/ryct.2020200034.fig5-day4.jpeg  \n",
            "  inflating: Dataset/Train/Covid/ryct.2020200034.fig5-day7.jpeg  \n",
            "  inflating: Dataset/Train/Covid/yxppt-2020-02-19_00-51-27_287214-day8.jpg  \n",
            "  inflating: Dataset/Train/Normal/IM-0140-0001.jpeg  \n",
            "  inflating: Dataset/Train/Normal/IM-0151-0001.jpeg  \n",
            "  inflating: Dataset/Train/Normal/IM-0158-0001.jpeg  \n",
            "  inflating: Dataset/Train/Normal/IM-0172-0001.jpeg  \n",
            "  inflating: Dataset/Train/Normal/IM-0189-0001.jpeg  \n",
            "  inflating: Dataset/Train/Normal/IM-0214-0001.jpeg  \n",
            "  inflating: Dataset/Train/Normal/IM-0215-0001.jpeg  \n",
            "  inflating: Dataset/Train/Normal/IM-0222-0001.jpeg  \n",
            "  inflating: Dataset/Train/Normal/IM-0235-0001.jpeg  \n",
            "  inflating: Dataset/Train/Normal/IM-0241-0001.jpeg  \n",
            "  inflating: Dataset/Train/Normal/IM-0243-0001.jpeg  \n",
            "  inflating: Dataset/Train/Normal/IM-0256-0001.jpeg  \n",
            "  inflating: Dataset/Train/Normal/IM-0272-0001.jpeg  \n",
            "  inflating: Dataset/Train/Normal/IM-0276-0001.jpeg  \n",
            "  inflating: Dataset/Train/Normal/IM-0292-0001.jpeg  \n",
            "  inflating: Dataset/Train/Normal/IM-0295-0001.jpeg  \n",
            "  inflating: Dataset/Train/Normal/IM-0311-0001.jpeg  \n",
            "  inflating: Dataset/Train/Normal/IM-0313-0001.jpeg  \n",
            "  inflating: Dataset/Train/Normal/IM-0347-0001.jpeg  \n",
            "  inflating: Dataset/Train/Normal/IM-0361-0001.jpeg  \n",
            "  inflating: Dataset/Train/Normal/IM-0374-0001.jpeg  \n",
            "  inflating: Dataset/Train/Normal/IM-0375-0001.jpeg  \n",
            "  inflating: Dataset/Train/Normal/IM-0377-0001.jpeg  \n",
            "  inflating: Dataset/Train/Normal/IM-0379-0001.jpeg  \n",
            "  inflating: Dataset/Train/Normal/IM-0395-0001.jpeg  \n",
            "  inflating: Dataset/Train/Normal/IM-0437-0001-0002.jpeg  \n",
            "  inflating: Dataset/Train/Normal/IM-0437-0001.jpeg  \n",
            "  inflating: Dataset/Train/Normal/IM-0439-0001.jpeg  \n",
            "  inflating: Dataset/Train/Normal/IM-0448-0001.jpeg  \n",
            "  inflating: Dataset/Train/Normal/IM-0449-0001.jpeg  \n",
            "  inflating: Dataset/Train/Normal/IM-0458-0001.jpeg  \n",
            "  inflating: Dataset/Train/Normal/IM-0478-0001.jpeg  \n",
            "  inflating: Dataset/Train/Normal/IM-0486-0001.jpeg  \n",
            "  inflating: Dataset/Train/Normal/IM-0492-0001.jpeg  \n",
            "  inflating: Dataset/Train/Normal/IM-0496-0001.jpeg  \n",
            "  inflating: Dataset/Train/Normal/IM-0497-0001-0001.jpeg  \n",
            "  inflating: Dataset/Train/Normal/IM-0502-0001.jpeg  \n",
            "  inflating: Dataset/Train/Normal/IM-0504-0001.jpeg  \n",
            "  inflating: Dataset/Train/Normal/IM-0506-0001.jpeg  \n",
            "  inflating: Dataset/Train/Normal/IM-0517-0001-0001.jpeg  \n",
            "  inflating: Dataset/Train/Normal/IM-0520-0001.jpeg  \n",
            "  inflating: Dataset/Train/Normal/IM-0523-0001-0002.jpeg  \n",
            "  inflating: Dataset/Train/Normal/IM-0523-0001.jpeg  \n",
            "  inflating: Dataset/Train/Normal/IM-0530-0001.jpeg  \n",
            "  inflating: Dataset/Train/Normal/IM-0531-0001-0001.jpeg  \n",
            "  inflating: Dataset/Train/Normal/IM-0549-0001.jpeg  \n",
            "  inflating: Dataset/Train/Normal/IM-0575-0001.jpeg  \n",
            "  inflating: Dataset/Train/Normal/IM-0598-0001.jpeg  \n",
            "  inflating: Dataset/Train/Normal/IM-0612-0001-0002.jpeg  \n",
            "  inflating: Dataset/Train/Normal/IM-0613-0001.jpeg  \n",
            "  inflating: Dataset/Train/Normal/IM-0622-0001-0002.jpeg  \n",
            "  inflating: Dataset/Train/Normal/IM-0623-0001.jpeg  \n",
            "  inflating: Dataset/Train/Normal/IM-0635-0001.jpeg  \n",
            "  inflating: Dataset/Train/Normal/IM-0650-0001-0002.jpeg  \n",
            "  inflating: Dataset/Train/Normal/IM-0656-0001.jpeg  \n",
            "  inflating: Dataset/Train/Normal/IM-0658-0001.jpeg  \n",
            "  inflating: Dataset/Train/Normal/IM-0673-0001.jpeg  \n",
            "  inflating: Dataset/Train/Normal/IM-0676-0001.jpeg  \n",
            "  inflating: Dataset/Train/Normal/IM-0681-0001.jpeg  \n",
            "  inflating: Dataset/Train/Normal/IM-0688-0001.jpeg  \n",
            "  inflating: Dataset/Train/Normal/IM-0691-0001.jpeg  \n",
            "  inflating: Dataset/Train/Normal/IM-0692-0001.jpeg  \n",
            "  inflating: Dataset/Train/Normal/IM-0700-0001.jpeg  \n",
            "  inflating: Dataset/Train/Normal/IM-0701-0001.jpeg  \n",
            "  inflating: Dataset/Train/Normal/IM-0704-0001.jpeg  \n",
            "  inflating: Dataset/Train/Normal/IM-0705-0001.jpeg  \n",
            "  inflating: Dataset/Train/Normal/IM-0706-0001.jpeg  \n",
            "  inflating: Dataset/Train/Normal/IM-0716-0001.jpeg  \n",
            "  inflating: Dataset/Train/Normal/IM-0732-0001.jpeg  \n",
            "  inflating: Dataset/Train/Normal/IM-0752-0001.jpeg  \n",
            "  inflating: Dataset/Train/Normal/NORMAL2-IM-0384-0001.jpeg  \n",
            "  inflating: Dataset/Train/Normal/NORMAL2-IM-0393-0001.jpeg  \n",
            "  inflating: Dataset/Train/Normal/NORMAL2-IM-0395-0001-0001.jpeg  \n",
            "  inflating: Dataset/Train/Normal/NORMAL2-IM-0433-0001.jpeg  \n",
            "  inflating: Dataset/Train/Normal/NORMAL2-IM-0439-0001.jpeg  \n",
            "  inflating: Dataset/Train/Normal/NORMAL2-IM-0449-0001.jpeg  \n",
            "  inflating: Dataset/Train/Normal/NORMAL2-IM-0462-0001.jpeg  \n",
            "  inflating: Dataset/Train/Normal/NORMAL2-IM-0472-0001.jpeg  \n",
            "  inflating: Dataset/Train/Normal/NORMAL2-IM-0482-0001.jpeg  \n",
            "  inflating: Dataset/Train/Normal/NORMAL2-IM-0497-0001.jpeg  \n",
            "  inflating: Dataset/Train/Normal/NORMAL2-IM-0552-0001.jpeg  \n",
            "  inflating: Dataset/Train/Normal/NORMAL2-IM-0555-0001-0001.jpeg  \n",
            "  inflating: Dataset/Train/Normal/NORMAL2-IM-0559-0001.jpeg  \n",
            "  inflating: Dataset/Train/Normal/NORMAL2-IM-0571-0001.jpeg  \n",
            "  inflating: Dataset/Train/Normal/NORMAL2-IM-0577-0001.jpeg  \n",
            "  inflating: Dataset/Train/Normal/NORMAL2-IM-0582-0001.jpeg  \n",
            "  inflating: Dataset/Train/Normal/NORMAL2-IM-0588-0001.jpeg  \n",
            "  inflating: Dataset/Train/Normal/NORMAL2-IM-0589-0001.jpeg  \n",
            "  inflating: Dataset/Train/Normal/NORMAL2-IM-0602-0001.jpeg  \n",
            "  inflating: Dataset/Train/Normal/NORMAL2-IM-0627-0001.jpeg  \n",
            "  inflating: Dataset/Train/Normal/NORMAL2-IM-0630-0001.jpeg  \n",
            "  inflating: Dataset/Train/Normal/NORMAL2-IM-0636-0001.jpeg  \n",
            "  inflating: Dataset/Train/Normal/NORMAL2-IM-0643-0001.jpeg  \n",
            "  inflating: Dataset/Train/Normal/NORMAL2-IM-0683-0001.jpeg  \n",
            "  inflating: Dataset/Train/Normal/NORMAL2-IM-0687-0001.jpeg  \n",
            "  inflating: Dataset/Train/Normal/NORMAL2-IM-0689-0001.jpeg  \n",
            "  inflating: Dataset/Train/Normal/NORMAL2-IM-0692-0001.jpeg  \n",
            "  inflating: Dataset/Train/Normal/NORMAL2-IM-0693-0001.jpeg  \n",
            "  inflating: Dataset/Train/Normal/NORMAL2-IM-0694-0001.jpeg  \n",
            "  inflating: Dataset/Train/Normal/NORMAL2-IM-0771-0001.jpeg  \n",
            "  inflating: Dataset/Train/Normal/NORMAL2-IM-0775-0001.jpeg  \n",
            "  inflating: Dataset/Train/Normal/NORMAL2-IM-0776-0001.jpeg  \n",
            "  inflating: Dataset/Train/Normal/NORMAL2-IM-0790-0001.jpeg  \n",
            "  inflating: Dataset/Train/Normal/NORMAL2-IM-0807-0001.jpeg  \n",
            "  inflating: Dataset/Train/Normal/NORMAL2-IM-0816-0001.jpeg  \n",
            "  inflating: Dataset/Train/Normal/NORMAL2-IM-0842-0001.jpeg  \n",
            "  inflating: Dataset/Train/Normal/NORMAL2-IM-0858-0001.jpeg  \n",
            "  inflating: Dataset/Train/Normal/NORMAL2-IM-0866-0001.jpeg  \n",
            "  inflating: Dataset/Train/Normal/NORMAL2-IM-0876-0001.jpeg  \n",
            "  inflating: Dataset/Train/Normal/NORMAL2-IM-0892-0001.jpeg  \n",
            "  inflating: Dataset/Train/Normal/NORMAL2-IM-0911-0001.jpeg  \n",
            "  inflating: Dataset/Train/Normal/NORMAL2-IM-0915-0001.jpeg  \n",
            "  inflating: Dataset/Train/Normal/NORMAL2-IM-0927-0001.jpeg  \n",
            "  inflating: Dataset/Train/Normal/NORMAL2-IM-0942-0001.jpeg  \n",
            "  inflating: Dataset/Train/Normal/NORMAL2-IM-0947-0001.jpeg  \n",
            "  inflating: Dataset/Train/Normal/NORMAL2-IM-0959-0001.jpeg  \n",
            "  inflating: Dataset/Train/Normal/NORMAL2-IM-0967-0001.jpeg  \n",
            "  inflating: Dataset/Train/Normal/NORMAL2-IM-0977-0001.jpeg  \n",
            "  inflating: Dataset/Train/Normal/NORMAL2-IM-0978-0001.jpeg  \n",
            "  inflating: Dataset/Train/Normal/NORMAL2-IM-0999-0001.jpeg  \n",
            "  inflating: Dataset/Train/Normal/NORMAL2-IM-1010-0001.jpeg  \n",
            "  inflating: Dataset/Train/Normal/NORMAL2-IM-1014-0001.jpeg  \n",
            "  inflating: Dataset/Train/Normal/NORMAL2-IM-1022-0001.jpeg  \n",
            "  inflating: Dataset/Train/Normal/NORMAL2-IM-1037-0001.jpeg  \n",
            "  inflating: Dataset/Train/Normal/NORMAL2-IM-1040-0001.jpeg  \n",
            "  inflating: Dataset/Train/Normal/NORMAL2-IM-1094-0001-0001.jpeg  \n",
            "  inflating: Dataset/Train/Normal/NORMAL2-IM-1096-0001-0001.jpeg  \n",
            "  inflating: Dataset/Train/Normal/NORMAL2-IM-1102-0001-0002.jpeg  \n",
            "  inflating: Dataset/Train/Normal/NORMAL2-IM-1112-0001.jpeg  \n",
            "  inflating: Dataset/Train/Normal/NORMAL2-IM-1142-0001-0001.jpeg  \n",
            "  inflating: Dataset/Train/Normal/NORMAL2-IM-1154-0001.jpeg  \n",
            "  inflating: Dataset/Train/Normal/NORMAL2-IM-1156-0001.jpeg  \n",
            "  inflating: Dataset/Train/Normal/NORMAL2-IM-1164-0001.jpeg  \n",
            "  inflating: Dataset/Train/Normal/NORMAL2-IM-1182-0001.jpeg  \n",
            "  inflating: Dataset/Train/Normal/NORMAL2-IM-1250-0001.jpeg  \n",
            "  inflating: Dataset/Train/Normal/NORMAL2-IM-1261-0001.jpeg  \n",
            "  inflating: Dataset/Train/Normal/NORMAL2-IM-1264-0001.jpeg  \n",
            "  inflating: Dataset/Train/Normal/NORMAL2-IM-1274-0001.jpeg  \n",
            "  inflating: Dataset/Train/Normal/NORMAL2-IM-1289-0001.jpeg  \n",
            "  inflating: Dataset/Train/Normal/NORMAL2-IM-1294-0001-0001.jpeg  \n",
            "  inflating: Dataset/Train/Normal/NORMAL2-IM-1342-0001.jpeg  \n",
            "  inflating: Dataset/Train/Normal/NORMAL2-IM-1347-0001.jpeg  \n",
            "  inflating: Dataset/Train/Normal/NORMAL2-IM-1356-0001.jpeg  \n",
            "  inflating: Dataset/Train/Normal/NORMAL2-IM-1396-0001.jpeg  \n",
            "  inflating: Dataset/Val/Covid/16654_1_1.png  \n",
            "  inflating: Dataset/Val/Covid/16654_2_1.jpg  \n",
            "  inflating: Dataset/Val/Covid/16654_4_1.jpg  \n",
            "  inflating: Dataset/Val/Covid/23E99E2E-447C-46E5-8EB2-D35D12473C39.png  \n",
            "  inflating: Dataset/Val/Covid/31BA3780-2323-493F-8AED-62081B9C383B.jpeg  \n",
            "  inflating: Dataset/Val/Covid/353889E0-A1E8-4F9E-A0B8-F24F36BCFBFB.jpeg  \n",
            "  inflating: Dataset/Val/Covid/4-x-day1.jpg  \n",
            "  inflating: Dataset/Val/Covid/41591_2020_819_Fig1_HTML.webp-day10.png  \n",
            "  inflating: Dataset/Val/Covid/41591_2020_819_Fig1_HTML.webp-day5.png  \n",
            "  inflating: Dataset/Val/Covid/4e43e48d52c9e2d4c6c1fb9bc1544f_jumbo.jpeg  \n",
            "  inflating: Dataset/Val/Covid/53EC07C9-5CC6-4BE4-9B6F-D7B0D72AAA7E.jpeg  \n",
            "  inflating: Dataset/Val/Covid/58cb9263f16e94305c730685358e4e_jumbo.jpeg  \n",
            "  inflating: Dataset/Val/Covid/6C94A287-C059-46A0-8600-AFB95F4727B7.jpeg  \n",
            "  inflating: Dataset/Val/Covid/6CB4EFC6-68FA-4CD5-940C-BEFA8DAFE9A7.jpeg  \n",
            "  inflating: Dataset/Val/Covid/6b3bdbc31f65230b8cdcc3cef5f8ba8a-40ac-0.jpg  \n",
            "  inflating: Dataset/Val/Covid/6b44464d-73a7-4cf3-bbb6-ffe7168300e3.annot.original.jpeg  \n",
            "  inflating: Dataset/Val/Covid/7AF6C1AF-D249-4BD2-8C26-449304105D03.jpeg  \n",
            "  inflating: Dataset/Val/Covid/7C69C012-7479-493F-8722-ABC29C60A2DD.jpeg  \n",
            "  inflating: Dataset/Val/Covid/85E52EB3-56E9-4D67-82DA-DEA247C82886.jpeg  \n",
            "  inflating: Dataset/Val/Covid/88de9d8c39e946abd495b37cd07d89e5-2ee6-0.jpg  \n",
            "  inflating: Dataset/Val/Covid/88de9d8c39e946abd495b37cd07d89e5-6531-0.jpg  \n",
            "  inflating: Dataset/Val/Covid/B2D20576-00B7-4519-A415-72DE29C90C34.jpeg  \n",
            "  inflating: Dataset/Val/Covid/auntminnie-c-2020_01_28_23_51_6665_2020_01_28_Vietnam_coronavirus.jpeg  \n",
            "  inflating: Dataset/Val/Covid/auntminnie-d-2020_01_28_23_51_6665_2020_01_28_Vietnam_coronavirus.jpeg  \n",
            "  inflating: Dataset/Val/Covid/covid-19-pneumonia-12.jpg  \n",
            "  inflating: Dataset/Val/Covid/covid-19-pneumonia-14-PA.png  \n",
            "  inflating: Dataset/Val/Covid/covid-19-pneumonia-35-1.jpg  \n",
            "  inflating: Dataset/Val/Covid/covid-19-pneumonia-35-2.jpg  \n",
            "  inflating: Dataset/Val/Covid/covid-19-pneumonia-53.jpg  \n",
            "  inflating: Dataset/Val/Covid/covid-19-pneumonia-8.jpg  \n",
            "  inflating: Dataset/Val/Normal/NORMAL2-IM-0395-0001.jpeg  \n",
            "  inflating: Dataset/Val/Normal/NORMAL2-IM-0408-0001.jpeg  \n",
            "  inflating: Dataset/Val/Normal/NORMAL2-IM-0416-0001-0001.jpeg  \n",
            "  inflating: Dataset/Val/Normal/NORMAL2-IM-0441-0001.jpeg  \n",
            "  inflating: Dataset/Val/Normal/NORMAL2-IM-0462-0001.jpeg  \n",
            "  inflating: Dataset/Val/Normal/NORMAL2-IM-0535-0001-0002.jpeg  \n",
            "  inflating: Dataset/Val/Normal/NORMAL2-IM-0652-0001.jpeg  \n",
            "  inflating: Dataset/Val/Normal/NORMAL2-IM-0678-0001.jpeg  \n",
            "  inflating: Dataset/Val/Normal/NORMAL2-IM-0730-0001.jpeg  \n",
            "  inflating: Dataset/Val/Normal/NORMAL2-IM-0765-0001.jpeg  \n",
            "  inflating: Dataset/Val/Normal/NORMAL2-IM-0790-0001.jpeg  \n",
            "  inflating: Dataset/Val/Normal/NORMAL2-IM-0842-0001.jpeg  \n",
            "  inflating: Dataset/Val/Normal/NORMAL2-IM-0851-0001-0001.jpeg  \n",
            "  inflating: Dataset/Val/Normal/NORMAL2-IM-0851-0001.jpeg  \n",
            "  inflating: Dataset/Val/Normal/NORMAL2-IM-0857-0001.jpeg  \n",
            "  inflating: Dataset/Val/Normal/NORMAL2-IM-0859-0001.jpeg  \n",
            "  inflating: Dataset/Val/Normal/NORMAL2-IM-0869-0001.jpeg  \n",
            "  inflating: Dataset/Val/Normal/NORMAL2-IM-0873-0001.jpeg  \n",
            "  inflating: Dataset/Val/Normal/NORMAL2-IM-0894-0001.jpeg  \n",
            "  inflating: Dataset/Val/Normal/NORMAL2-IM-0905-0001.jpeg  \n",
            "  inflating: Dataset/Val/Normal/NORMAL2-IM-0914-0001.jpeg  \n",
            "  inflating: Dataset/Val/Normal/NORMAL2-IM-1022-0001.jpeg  \n",
            "  inflating: Dataset/Val/Normal/NORMAL2-IM-1037-0001.jpeg  \n",
            "  inflating: Dataset/Val/Normal/NORMAL2-IM-1045-0001.jpeg  \n",
            "  inflating: Dataset/Val/Normal/NORMAL2-IM-1060-0001.jpeg  \n",
            "  inflating: Dataset/Val/Normal/NORMAL2-IM-1191-0001.jpeg  \n",
            "  inflating: Dataset/Val/Normal/NORMAL2-IM-1228-0001.jpeg  \n",
            "  inflating: Dataset/Val/Normal/NORMAL2-IM-1237-0001.jpeg  \n",
            "  inflating: Dataset/Val/Normal/NORMAL2-IM-1240-0001.jpeg  \n",
            "  inflating: Dataset/Val/Normal/NORMAL2-IM-1275-0001.jpeg  \n"
          ]
        }
      ]
    },
    {
      "cell_type": "code",
      "source": [
        "len(os.listdir('/content/Dataset'))"
      ],
      "metadata": {
        "colab": {
          "base_uri": "https://localhost:8080/"
        },
        "id": "kdPhKuoWV8DX",
        "outputId": "c4360e91-9358-4a41-d4cf-dbd9e47fa1b8"
      },
      "execution_count": null,
      "outputs": [
        {
          "output_type": "execute_result",
          "data": {
            "text/plain": [
              "3"
            ]
          },
          "metadata": {},
          "execution_count": 4
        }
      ]
    },
    {
      "cell_type": "code",
      "source": [
        "len(os.listdir('/content/Dataset/Train'))"
      ],
      "metadata": {
        "colab": {
          "base_uri": "https://localhost:8080/"
        },
        "id": "FUmQtNM_WGrj",
        "outputId": "eb5cd989-212f-4c8f-b24e-ff540e40cf0f"
      },
      "execution_count": null,
      "outputs": [
        {
          "output_type": "execute_result",
          "data": {
            "text/plain": [
              "2"
            ]
          },
          "metadata": {},
          "execution_count": 5
        }
      ]
    },
    {
      "cell_type": "code",
      "source": [
        "len(os.listdir('/content/Dataset/Val'))"
      ],
      "metadata": {
        "colab": {
          "base_uri": "https://localhost:8080/"
        },
        "id": "TDrRpAhJWZAt",
        "outputId": "d748e327-2ce5-413d-c533-07c8effd74c4"
      },
      "execution_count": null,
      "outputs": [
        {
          "output_type": "execute_result",
          "data": {
            "text/plain": [
              "2"
            ]
          },
          "metadata": {},
          "execution_count": 6
        }
      ]
    },
    {
      "cell_type": "code",
      "source": [
        "len(os.listdir('/content/Dataset/Train/Covid'))"
      ],
      "metadata": {
        "colab": {
          "base_uri": "https://localhost:8080/"
        },
        "id": "iqGw-IjXWcWQ",
        "outputId": "abbe3e51-5334-43d2-b345-ae7084ec8d58"
      },
      "execution_count": null,
      "outputs": [
        {
          "output_type": "execute_result",
          "data": {
            "text/plain": [
              "144"
            ]
          },
          "metadata": {},
          "execution_count": 7
        }
      ]
    },
    {
      "cell_type": "code",
      "source": [
        "len(os.listdir('/content/Dataset/Train/Normal'))"
      ],
      "metadata": {
        "colab": {
          "base_uri": "https://localhost:8080/"
        },
        "id": "eUcmqqQ4WflX",
        "outputId": "1b2e29e3-e7ae-4f33-caa4-35f57e8e8c2c"
      },
      "execution_count": null,
      "outputs": [
        {
          "output_type": "execute_result",
          "data": {
            "text/plain": [
              "144"
            ]
          },
          "metadata": {},
          "execution_count": 8
        }
      ]
    },
    {
      "cell_type": "code",
      "source": [
        "len(os.listdir('/content/Dataset/Val/Covid'))"
      ],
      "metadata": {
        "colab": {
          "base_uri": "https://localhost:8080/"
        },
        "id": "Ie9Fec9cWi3Q",
        "outputId": "4954f554-5814-46d4-c673-8bc5c8ba7cc7"
      },
      "execution_count": null,
      "outputs": [
        {
          "output_type": "execute_result",
          "data": {
            "text/plain": [
              "30"
            ]
          },
          "metadata": {},
          "execution_count": 9
        }
      ]
    },
    {
      "cell_type": "code",
      "source": [
        "len(os.listdir('/content/Dataset/Val/Normal'))"
      ],
      "metadata": {
        "colab": {
          "base_uri": "https://localhost:8080/"
        },
        "id": "3EKRks5RWmGH",
        "outputId": "6afaf2a5-f663-4bfa-86d9-0a6f82ded8e5"
      },
      "execution_count": null,
      "outputs": [
        {
          "output_type": "execute_result",
          "data": {
            "text/plain": [
              "30"
            ]
          },
          "metadata": {},
          "execution_count": 10
        }
      ]
    },
    {
      "cell_type": "code",
      "source": [
        "import cv2\n",
        "img = cv2.imread('/content/Dataset/Train/Normal/IM-0140-0001.jpeg')\n",
        "import matplotlib.pyplot as plt\n",
        "plt.imshow(img)"
      ],
      "metadata": {
        "colab": {
          "base_uri": "https://localhost:8080/",
          "height": 287
        },
        "id": "b7VkLbUsWokr",
        "outputId": "ea0ac0fa-4741-4f4e-9352-5a1074de483e"
      },
      "execution_count": null,
      "outputs": [
        {
          "output_type": "execute_result",
          "data": {
            "text/plain": [
              "<matplotlib.image.AxesImage at 0x7f30e073af50>"
            ]
          },
          "metadata": {},
          "execution_count": 11
        },
        {
          "output_type": "display_data",
          "data": {
            "text/plain": [
              "<Figure size 432x288 with 1 Axes>"
            ],
            "image/png": "[encoded data removed]"
          },
          "metadata": {
            "needs_background": "light"
          }
        }
      ]
    },
    {
      "cell_type": "code",
      "source": [
        "img.shape"
      ],
      "metadata": {
        "colab": {
          "base_uri": "https://localhost:8080/"
        },
        "id": "D7nldeomW2f4",
        "outputId": "93193865-b382-4f4b-b33d-11e223d06aa7"
      },
      "execution_count": null,
      "outputs": [
        {
          "output_type": "execute_result",
          "data": {
            "text/plain": [
              "(1237, 1156, 3)"
            ]
          },
          "metadata": {},
          "execution_count": 12
        }
      ]
    },
    {
      "cell_type": "code",
      "source": [
        "urls = os.listdir('/content/Dataset/Train/Covid')        #name of images\n",
        "path = \"/content/Dataset/Train/Covid\" + urls[0]         #one image path at a time\n",
        "path"
      ],
      "metadata": {
        "colab": {
          "base_uri": "https://localhost:8080/",
          "height": 36
        },
        "id": "gkemnW1wW7gm",
        "outputId": "b001ddef-e784-4bd6-dc33-4e44b8e8b001"
      },
      "execution_count": null,
      "outputs": [
        {
          "output_type": "execute_result",
          "data": {
            "text/plain": [
              "'/content/Dataset/Train/Covidlancet-case2b.jpg'"
            ],
            "application/vnd.google.colaboratory.intrinsic+json": {
              "type": "string"
            }
          },
          "metadata": {},
          "execution_count": 13
        }
      ]
    },
    {
      "cell_type": "code",
      "source": [
        "def loadImages(path, urls, target):\n",
        "  images = []\n",
        "  labels = []\n",
        "  #for root, folder, files in os.walk(path)\n",
        "  for i in range(len(urls)):\n",
        "    img_path = path + \"/\" + urls[i]\n",
        "    img = cv2.imread(img_path)        #read image one by one\n",
        "    img = img / 255.0\n",
        "    #print(img_path)\n",
        "    # if we want to resize the images\n",
        "    img = cv2.resize(img, (100, 100))\n",
        "    images.append(img)                #storing images one by one\n",
        "    labels.append(target)            \n",
        "  images = np.asarray(images)\n",
        "  return images, labels"
      ],
      "metadata": {
        "id": "O-iqJKDDXBn9"
      },
      "execution_count": null,
      "outputs": []
    },
    {
      "cell_type": "code",
      "source": [
        "import numpy as np\n",
        "covid_path = \"/content/Dataset/Train/Covid\"\n",
        "covidUrl = os.listdir(covid_path)\n",
        "covidImages, covidTargets = loadImages(covid_path, covidUrl, 1) "
      ],
      "metadata": {
        "id": "qGzYz3-KXE3a"
      },
      "execution_count": null,
      "outputs": []
    },
    {
      "cell_type": "code",
      "source": [
        "normal_path = \"/content/Dataset/Train/Normal\"\n",
        "normal_urls = os.listdir(normal_path)\n",
        "normalImages, normalTargets = loadImages(normal_path, normal_urls, 0)"
      ],
      "metadata": {
        "id": "2_otk8j4XJfF"
      },
      "execution_count": null,
      "outputs": []
    },
    {
      "cell_type": "code",
      "source": [
        "#convert data as numpy array as list cannot do everything like size, shape\n",
        "covidImages = np.asarray(covidImages)\n",
        "normalImages = np.asarray(normalImages)"
      ],
      "metadata": {
        "id": "U2AjUtLGXN4O"
      },
      "execution_count": null,
      "outputs": []
    },
    {
      "cell_type": "code",
      "source": [
        "len(covidUrl), len(covidImages)"
      ],
      "metadata": {
        "colab": {
          "base_uri": "https://localhost:8080/"
        },
        "id": "pQBATwe8XRRl",
        "outputId": "51cad6bc-6608-426d-8ee4-4ab25a0e0bd1"
      },
      "execution_count": null,
      "outputs": [
        {
          "output_type": "execute_result",
          "data": {
            "text/plain": [
              "(144, 144)"
            ]
          },
          "metadata": {},
          "execution_count": 18
        }
      ]
    },
    {
      "cell_type": "code",
      "source": [
        "covidImages.shape"
      ],
      "metadata": {
        "colab": {
          "base_uri": "https://localhost:8080/"
        },
        "id": "JHEYYKwpXTM_",
        "outputId": "cfd6df50-48fa-4d94-9e65-a25fb6cc033b"
      },
      "execution_count": null,
      "outputs": [
        {
          "output_type": "execute_result",
          "data": {
            "text/plain": [
              "(144, 100, 100, 3)"
            ]
          },
          "metadata": {},
          "execution_count": 19
        }
      ]
    },
    {
      "cell_type": "code",
      "source": [
        "covidImages[0].shape"
      ],
      "metadata": {
        "colab": {
          "base_uri": "https://localhost:8080/"
        },
        "id": "etQTzjLwXVJ-",
        "outputId": "bc221662-6454-4aa3-ca20-6b6e34b6c7e3"
      },
      "execution_count": null,
      "outputs": [
        {
          "output_type": "execute_result",
          "data": {
            "text/plain": [
              "(100, 100, 3)"
            ]
          },
          "metadata": {},
          "execution_count": 20
        }
      ]
    },
    {
      "cell_type": "code",
      "source": [
        "normalImages.shape"
      ],
      "metadata": {
        "colab": {
          "base_uri": "https://localhost:8080/"
        },
        "id": "5mhnm2SzXXLq",
        "outputId": "3584c4c7-1f30-4011-e86d-5f0ebfec2cc6"
      },
      "execution_count": null,
      "outputs": [
        {
          "output_type": "execute_result",
          "data": {
            "text/plain": [
              "(144, 100, 100, 3)"
            ]
          },
          "metadata": {},
          "execution_count": 21
        }
      ]
    },
    {
      "cell_type": "code",
      "source": [
        "data = np.r_[covidImages, normalImages]  #np.r_-----to stack the data row wise, similarly c_ to concatenate col wise.\n",
        "data.shape"
      ],
      "metadata": {
        "colab": {
          "base_uri": "https://localhost:8080/"
        },
        "id": "BPplhxn8XZSu",
        "outputId": "d5c7a383-0f16-43d4-99c1-5f483ca30272"
      },
      "execution_count": null,
      "outputs": [
        {
          "output_type": "execute_result",
          "data": {
            "text/plain": [
              "(288, 100, 100, 3)"
            ]
          },
          "metadata": {},
          "execution_count": 22
        }
      ]
    },
    {
      "cell_type": "code",
      "source": [
        "targets = np.r_[covidTargets, normalTargets]\n",
        "targets.shape "
      ],
      "metadata": {
        "colab": {
          "base_uri": "https://localhost:8080/"
        },
        "id": "vXVkY4DOXbjf",
        "outputId": "6121bf02-bbb1-4d22-a4dd-e02e91461ebf"
      },
      "execution_count": null,
      "outputs": [
        {
          "output_type": "execute_result",
          "data": {
            "text/plain": [
              "(288,)"
            ]
          },
          "metadata": {},
          "execution_count": 23
        }
      ]
    },
    {
      "cell_type": "code",
      "source": [
        "data = data / 255.0"
      ],
      "metadata": {
        "id": "oy4OcvWWXeJo"
      },
      "execution_count": null,
      "outputs": []
    },
    {
      "cell_type": "code",
      "source": [
        "from sklearn.model_selection import train_test_split\n",
        "x_train, x_test, y_train, y_test = train_test_split(data, targets, test_size=0.25)"
      ],
      "metadata": {
        "id": "s2eYcoY9XgMQ"
      },
      "execution_count": null,
      "outputs": []
    },
    {
      "cell_type": "code",
      "source": [
        "import tensorflow as tf\n",
        "from tensorflow.keras.models import Sequential\n",
        "from tensorflow.keras.layers import Conv2D, MaxPooling2D, Flatten, Dense"
      ],
      "metadata": {
        "id": "NGTvNpafXizz"
      },
      "execution_count": null,
      "outputs": []
    },
    {
      "cell_type": "code",
      "source": [
        "model = Sequential([\n",
        "    Conv2D(32, 3, input_shape=(100,100,3), activation='relu'),\n",
        "    MaxPooling2D(),   #by default 2x2 pooling size so wrote nothing in brackets\n",
        "    \n",
        "    Conv2D(16, 3, activation='relu'),\n",
        "    MaxPooling2D(),\n",
        "    \n",
        "    Conv2D(16, 3, activation='relu'),\n",
        "    MaxPooling2D(),\n",
        "    \n",
        "    Flatten(),\n",
        "    \n",
        "    Dense(512, activation='relu'),    \n",
        "    \n",
        "    Dense(256, activation='relu'),\n",
        "    \n",
        "    Dense(1, activation='sigmoid')\n",
        "])"
      ],
      "metadata": {
        "id": "PJloybsNXlVK"
      },
      "execution_count": null,
      "outputs": []
    },
    {
      "cell_type": "code",
      "source": [
        "from tensorflow.keras.utils import plot_model as plotter\n",
        "plotter(model, to_file=\"arch.png\", show_shapes=True, show_layer_names=True)"
      ],
      "metadata": {
        "colab": {
          "base_uri": "https://localhost:8080/",
          "height": 1000
        },
        "id": "2h7qoPimXpdc",
        "outputId": "496128c1-31d2-427e-cdfd-8535e7e2c872"
      },
      "execution_count": null,
      "outputs": [
        {
          "output_type": "execute_result",
          "data": {
            "text/plain": [
              "<IPython.core.display.Image object>"
            ],
            "image/png": "[encoded data removed]"
          },
          "metadata": {},
          "execution_count": 28
        }
      ]
    },
    {
      "cell_type": "code",
      "source": [
        "model.summary()"
      ],
      "metadata": {
        "colab": {
          "base_uri": "https://localhost:8080/"
        },
        "id": "hxM3c4sJXrno",
        "outputId": "2a71145e-d0c1-44b4-84e1-0054604c20f5"
      },
      "execution_count": null,
      "outputs": [
        {
          "output_type": "stream",
          "name": "stdout",
          "text": [
            "Model: \"sequential\"\n",
            "_________________________________________________________________\n",
            " Layer (type)                Output Shape              Param #   \n",
            "=================================================================\n",
            " conv2d (Conv2D)             (None, 98, 98, 32)        896       \n",
            "                                                                 \n",
            " max_pooling2d (MaxPooling2D  (None, 49, 49, 32)       0         \n",
            " )                                                               \n",
            "                                                                 \n",
            " conv2d_1 (Conv2D)           (None, 47, 47, 16)        4624      \n",
            "                                                                 \n",
            " max_pooling2d_1 (MaxPooling  (None, 23, 23, 16)       0         \n",
            " 2D)                                                             \n",
            "                                                                 \n",
            " conv2d_2 (Conv2D)           (None, 21, 21, 16)        2320      \n",
            "                                                                 \n",
            " max_pooling2d_2 (MaxPooling  (None, 10, 10, 16)       0         \n",
            " 2D)                                                             \n",
            "                                                                 \n",
            " flatten (Flatten)           (None, 1600)              0         \n",
            "                                                                 \n",
            " dense (Dense)               (None, 512)               819712    \n",
            "                                                                 \n",
            " dense_1 (Dense)             (None, 256)               131328    \n",
            "                                                                 \n",
            " dense_2 (Dense)             (None, 1)                 257       \n",
            "                                                                 \n",
            "=================================================================\n",
            "Total params: 959,137\n",
            "Trainable params: 959,137\n",
            "Non-trainable params: 0\n",
            "_________________________________________________________________\n"
          ]
        }
      ]
    },
    {
      "cell_type": "code",
      "source": [
        "model.compile(optimizer='adam', loss=tf.keras.losses.BinaryCrossentropy(),metrics=['accuracy'])\n",
        "model.fit(x_train, y_train,batch_size=3,epochs=5,validation_data=(x_test, y_test))"
      ],
      "metadata": {
        "colab": {
          "base_uri": "https://localhost:8080/"
        },
        "id": "aMGGaVUnXt88",
        "outputId": "6dcb313a-5699-4544-ae12-5cf4bc454733"
      },
      "execution_count": null,
      "outputs": [
        {
          "output_type": "stream",
          "name": "stdout",
          "text": [
            "Epoch 1/5\n",
            "72/72 [==============================] - 4s 48ms/step - loss: 0.4059 - accuracy: 0.8472 - val_loss: 0.3796 - val_accuracy: 0.8333\n",
            "Epoch 2/5\n",
            "72/72 [==============================] - 3s 44ms/step - loss: 0.1540 - accuracy: 0.9398 - val_loss: 0.0904 - val_accuracy: 0.9583\n",
            "Epoch 3/5\n",
            "72/72 [==============================] - 3s 44ms/step - loss: 0.0980 - accuracy: 0.9630 - val_loss: 0.1049 - val_accuracy: 0.9722\n",
            "Epoch 4/5\n",
            "72/72 [==============================] - 3s 44ms/step - loss: 0.1746 - accuracy: 0.9491 - val_loss: 0.2551 - val_accuracy: 0.8889\n",
            "Epoch 5/5\n",
            "72/72 [==============================] - 3s 44ms/step - loss: 0.1357 - accuracy: 0.9583 - val_loss: 0.1153 - val_accuracy: 0.9583\n"
          ]
        },
        {
          "output_type": "execute_result",
          "data": {
            "text/plain": [
              "<keras.callbacks.History at 0x7f4c7e5e62d0>"
            ]
          },
          "metadata": {},
          "execution_count": 33
        }
      ]
    },
    {
      "cell_type": "code",
      "source": [
        "!pip install visualkeras"
      ],
      "metadata": {
        "colab": {
          "base_uri": "https://localhost:8080/"
        },
        "id": "xrMqQbKLYFbX",
        "outputId": "9e3e1d50-01c5-446d-8009-1c01f036a3ff"
      },
      "execution_count": null,
      "outputs": [
        {
          "output_type": "stream",
          "name": "stdout",
          "text": [
            "Looking in indexes: https://pypi.org/simple, https://us-python.pkg.dev/colab-wheels/public/simple/\n",
            "Collecting visualkeras\n",
            "  Downloading visualkeras-0.0.2-py3-none-any.whl (12 kB)\n",
            "Collecting aggdraw>=1.3.11\n",
            "  Downloading aggdraw-1.3.15-cp37-cp37m-manylinux_2_17_x86_64.manylinux2014_x86_64.whl (989 kB)\n",
            "\u001b[K     |████████████████████████████████| 989 kB 7.2 MB/s \n",
            "\u001b[?25hRequirement already satisfied: numpy>=1.18.1 in /usr/local/lib/python3.7/dist-packages (from visualkeras) (1.21.6)\n",
            "Requirement already satisfied: pillow>=6.2.0 in /usr/local/lib/python3.7/dist-packages (from visualkeras) (7.1.2)\n",
            "Installing collected packages: aggdraw, visualkeras\n",
            "Successfully installed aggdraw-1.3.15 visualkeras-0.0.2\n"
          ]
        }
      ]
    },
    {
      "cell_type": "code",
      "source": [
        "import visualkeras\n",
        "visualkeras.layered_view(model,legend=True)"
      ],
      "metadata": {
        "colab": {
          "base_uri": "https://localhost:8080/",
          "height": 576
        },
        "id": "5-_ozorMXwSO",
        "outputId": "1f2fb90d-57d8-4f38-cfa6-c53ef0612f25"
      },
      "execution_count": null,
      "outputs": [
        {
          "output_type": "execute_result",
          "data": {
            "text/plain": [
              "<PIL.Image.Image image mode=RGBA size=556x559 at 0x7F30689CEA50>"
            ],
            "image/png": "[encoded data removed]"
          },
          "metadata": {},
          "execution_count": 31
        }
      ]
    },
    {
      "cell_type": "code",
      "source": [
        "plt.plot(model.history.history['accuracy'], label = 'train accuracy')\n",
        "plt.plot(model.history.history['val_accuracy'],label = 'test_accuracy')\n",
        "plt.legend()\n",
        "plt.show()"
      ],
      "metadata": {
        "colab": {
          "base_uri": "https://localhost:8080/",
          "height": 265
        },
        "id": "eQBBRR0SYJTS",
        "outputId": "36b42558-f7ea-4653-a36d-0f59b299eb97"
      },
      "execution_count": null,
      "outputs": [
        {
          "output_type": "display_data",
          "data": {
            "text/plain": [
              "<Figure size 432x288 with 1 Axes>"
            ],
            "image/png": "[encoded data removed]"
          },
          "metadata": {
            "needs_background": "light"
          }
        }
      ]
    },
    {
      "cell_type": "code",
      "source": [
        "plt.plot(model.history.history['loss'], label = 'train loss')\n",
        "plt.plot(model.history.history['val_loss'],label = 'test_loss')\n",
        "plt.legend()\n",
        "plt.show()"
      ],
      "metadata": {
        "colab": {
          "base_uri": "https://localhost:8080/",
          "height": 265
        },
        "id": "kHpZvX18YQaf",
        "outputId": "f7832e1c-0824-442d-c263-df8ed0f9121c"
      },
      "execution_count": null,
      "outputs": [
        {
          "output_type": "display_data",
          "data": {
            "text/plain": [
              "<Figure size 432x288 with 1 Axes>"
            ],
            "image/png": "[encoded data removed]"
          },
          "metadata": {
            "needs_background": "light"
          }
        }
      ]
    },
    {
      "cell_type": "code",
      "source": [
        "#experimenting with other models\n",
        "from tensorflow.keras.applications import Xception,VGG16,VGG19,ResNet50,InceptionV3,InceptionResNetV2,MobileNet,MobileNetV2"
      ],
      "metadata": {
        "id": "aRb0Hw3bYTkC"
      },
      "execution_count": null,
      "outputs": []
    },
    {
      "cell_type": "code",
      "source": [
        "import tensorflow as tf\n",
        "from tensorflow import keras\n",
        "from tensorflow.keras import layers\n",
        "from tensorflow.keras.preprocessing.image import ImageDataGenerator\n",
        "import numpy as np\n"
      ],
      "metadata": {
        "id": "yjEqW6VQYYKr"
      },
      "execution_count": null,
      "outputs": []
    },
    {
      "cell_type": "code",
      "source": [
        "from tensorflow.keras.preprocessing.image import ImageDataGenerator\n",
        "import numpy as np\n",
        "\n",
        "datagen = ImageDataGenerator(\n",
        "    rescale=1./255,\n",
        "    shear_range=0.2,\n",
        "    zoom_range=0.2,\n",
        "    horizontal_flip=True,\n",
        "    rotation_range=45,\n",
        "    fill_mode='nearest'\n",
        "    )\n",
        "\n",
        "# test_datagen = ImageDataGenerator(rescale=1./255)\n",
        "\n",
        "train_generator = datagen.flow_from_directory(\n",
        "    '/content/Dataset/Train',\n",
        "    target_size=(224,224),\n",
        "    batch_size=6,\n",
        "    class_mode='binary',\n",
        "    shuffle=True,\n",
        "    # color_mode=\"grayscale\"\n",
        "    )\n",
        "\n",
        "validation_generator = datagen.flow_from_directory(\n",
        "    '/content/Dataset/Val',\n",
        "    target_size=(224,224),\n",
        "    batch_size=6,\n",
        "    class_mode='binary',\n",
        "    shuffle=True,\n",
        "    # color_mode=\"grayscale\"\n",
        "    )"
      ],
      "metadata": {
        "colab": {
          "base_uri": "https://localhost:8080/"
        },
        "id": "M3_2EZBLYdY5",
        "outputId": "d3b735f7-abf6-4407-a397-a2c163ad5956"
      },
      "execution_count": null,
      "outputs": [
        {
          "output_type": "stream",
          "name": "stdout",
          "text": [
            "Found 288 images belonging to 2 classes.\n",
            "Found 60 images belonging to 2 classes.\n"
          ]
        }
      ]
    },
    {
      "cell_type": "code",
      "source": [
        "#experimenting with other models\n",
        "from tensorflow.keras.applications import Xception,VGG16,VGG19,ResNet50,InceptionV3,InceptionResNetV2,MobileNet,MobileNetV2\n",
        "\n",
        "hist = []"
      ],
      "metadata": {
        "id": "6fcv9bcEYl65"
      },
      "execution_count": null,
      "outputs": []
    },
    {
      "cell_type": "code",
      "source": [
        "#Xception\n",
        "model = Sequential()\n",
        "pretrained_model= Xception(include_top=False,input_shape=(224,224,3),weights='imagenet')\n",
        "for layer in pretrained_model.layers:\n",
        "    layer.trainable=False\n",
        "model.add(pretrained_model)\n",
        "model.add(Flatten())\n",
        "model.add(Dense(200, activation='relu'))\n",
        "model.add(Dense(1, activation='sigmoid'))\n",
        "opt = keras.optimizers.Adam(learning_rate=0.001)\n",
        "model.compile(optimizer=opt, loss='binary_crossentropy', metrics=['accuracy'])\n",
        "\n",
        "model.fit(train_generator,steps_per_epoch=148/6,epochs=3,validation_data=validation_generator,validation_steps=40/6,verbose=1)\n",
        "h = model.evaluate(validation_generator,verbose=1)\n",
        "hist.append([h[0],h[1],\"Xception\"])"
      ],
      "metadata": {
        "colab": {
          "base_uri": "https://localhost:8080/"
        },
        "id": "huJEuUmTYpL5",
        "outputId": "312ddb54-d327-4be8-9e82-f28a36c58a78"
      },
      "execution_count": null,
      "outputs": [
        {
          "output_type": "stream",
          "name": "stdout",
          "text": [
            "Downloading data from https://storage.googleapis.com/tensorflow/keras-applications/xception/xception_weights_tf_dim_ordering_tf_kernels_notop.h5\n",
            "83689472/83683744 [==============================] - 1s 0us/step\n",
            "83697664/83683744 [==============================] - 1s 0us/step\n",
            "Epoch 1/3\n",
            "24/24 [==============================] - 43s 2s/step - loss: 2.5602 - accuracy: 0.9067 - val_loss: 2.4317 - val_accuracy: 0.9762\n",
            "Epoch 2/3\n",
            "24/24 [==============================] - 38s 2s/step - loss: 1.2306 - accuracy: 0.9667 - val_loss: 1.4531 - val_accuracy: 0.9524\n",
            "Epoch 3/3\n",
            "24/24 [==============================] - 38s 2s/step - loss: 1.7759 - accuracy: 0.9200 - val_loss: 2.0713 - val_accuracy: 0.8810\n",
            "10/10 [==============================] - 12s 1s/step - loss: 5.1287 - accuracy: 0.8500\n"
          ]
        }
      ]
    },
    {
      "cell_type": "code",
      "source": [
        "#VGG16\n",
        "model = Sequential()\n",
        "pretrained_model= VGG16(include_top=False,input_shape=(224,224,3),weights='imagenet')\n",
        "for layer in pretrained_model.layers:\n",
        "    layer.trainable=False\n",
        "model.add(pretrained_model)\n",
        "model.add(Flatten())\n",
        "model.add(Dense(200, activation='relu'))\n",
        "model.add(Dense(1, activation='sigmoid'))\n",
        "opt = keras.optimizers.Adam(learning_rate=0.001)\n",
        "model.compile(optimizer=opt, loss='binary_crossentropy', metrics=['accuracy'])\n",
        "\n",
        "model.fit(train_generator,steps_per_epoch=148/6,epochs=3,validation_data=validation_generator,validation_steps=40/6,verbose=1)\n",
        "h = model.evaluate(validation_generator,verbose=1)\n",
        "hist.append([h[0],h[1],\"VGG16\"])"
      ],
      "metadata": {
        "colab": {
          "base_uri": "https://localhost:8080/"
        },
        "id": "2MyqZaA8ZaLF",
        "outputId": "babbbf82-e14a-4a7b-b8ee-0a733f7601a3"
      },
      "execution_count": null,
      "outputs": [
        {
          "output_type": "stream",
          "name": "stdout",
          "text": [
            "Downloading data from https://storage.googleapis.com/tensorflow/keras-applications/vgg16/vgg16_weights_tf_dim_ordering_tf_kernels_notop.h5\n",
            "58892288/58889256 [==============================] - 0s 0us/step\n",
            "58900480/58889256 [==============================] - 0s 0us/step\n",
            "Epoch 1/3\n",
            "24/24 [==============================] - 93s 4s/step - loss: 1.1415 - accuracy: 0.7667 - val_loss: 0.1252 - val_accuracy: 0.9524\n",
            "Epoch 2/3\n",
            "24/24 [==============================] - 91s 4s/step - loss: 0.1129 - accuracy: 0.9533 - val_loss: 0.1071 - val_accuracy: 0.9524\n",
            "Epoch 3/3\n",
            "24/24 [==============================] - 91s 4s/step - loss: 0.0805 - accuracy: 0.9667 - val_loss: 0.1196 - val_accuracy: 0.9048\n",
            "10/10 [==============================] - 29s 3s/step - loss: 0.1162 - accuracy: 0.9500\n"
          ]
        }
      ]
    },
    {
      "cell_type": "code",
      "source": [
        "#VGG19\n",
        "model = Sequential()\n",
        "pretrained_model= VGG19(include_top=False,input_shape=(224,224,3),weights='imagenet')\n",
        "for layer in pretrained_model.layers:\n",
        "    layer.trainable=False\n",
        "model.add(pretrained_model)\n",
        "model.add(Flatten())\n",
        "model.add(Dense(200, activation='relu'))\n",
        "model.add(Dense(1, activation='sigmoid'))\n",
        "opt = keras.optimizers.Adam(learning_rate=0.001)\n",
        "model.compile(optimizer=opt, loss='binary_crossentropy', metrics=['accuracy'])\n",
        "\n",
        "model.fit(train_generator,steps_per_epoch=148/6,epochs=3,validation_data=validation_generator,validation_steps=40/6,verbose=1)\n",
        "h = model.evaluate(validation_generator,verbose=1)\n",
        "hist.append([h[0],h[1],\"VGG19\"])"
      ],
      "metadata": {
        "colab": {
          "base_uri": "https://localhost:8080/"
        },
        "id": "wBEzT0i7ZcXs",
        "outputId": "ef218f66-6c18-42fa-c818-877616e687b1"
      },
      "execution_count": null,
      "outputs": [
        {
          "output_type": "stream",
          "name": "stdout",
          "text": [
            "Downloading data from https://storage.googleapis.com/tensorflow/keras-applications/vgg19/vgg19_weights_tf_dim_ordering_tf_kernels_notop.h5\n",
            "80142336/80134624 [==============================] - 0s 0us/step\n",
            "80150528/80134624 [==============================] - 0s 0us/step\n",
            "Epoch 1/3\n",
            "24/24 [==============================] - 116s 5s/step - loss: 0.9601 - accuracy: 0.8067 - val_loss: 0.2614 - val_accuracy: 0.9524\n",
            "Epoch 2/3\n",
            "24/24 [==============================] - 113s 5s/step - loss: 0.1782 - accuracy: 0.9600 - val_loss: 0.0472 - val_accuracy: 0.9762\n",
            "Epoch 3/3\n",
            "13/24 [==============>...............] - ETA: 41s - loss: 0.2004 - accuracy: 0.9359"
          ]
        }
      ]
    },
    {
      "cell_type": "code",
      "source": [
        "#ResNet50\n",
        "model = Sequential()\n",
        "pretrained_model= ResNet50(include_top=False,input_shape=(224,224,3),weights='imagenet')\n",
        "for layer in pretrained_model.layers:\n",
        "    layer.trainable=False\n",
        "model.add(pretrained_model)\n",
        "model.add(Flatten())\n",
        "model.add(Dense(200, activation='relu'))\n",
        "model.add(Dense(1, activation='sigmoid'))\n",
        "opt = keras.optimizers.Adam(learning_rate=0.001)\n",
        "model.compile(optimizer=opt, loss='binary_crossentropy', metrics=['accuracy'])\n",
        "\n",
        "model.fit(train_generator,steps_per_epoch=148/6,epochs=3,validation_data=validation_generator,validation_steps=40/6,verbose=1)\n",
        "h = model.evaluate(validation_generator,verbose=1)\n",
        "hist.append([h[0],h[1],\"ResNet50\"])"
      ],
      "metadata": {
        "colab": {
          "base_uri": "https://localhost:8080/"
        },
        "id": "cub4kRwVZpcA",
        "outputId": "9a3c0ad2-e583-4da6-c950-d385fbda44a8"
      },
      "execution_count": null,
      "outputs": [
        {
          "output_type": "stream",
          "name": "stdout",
          "text": [
            "Epoch 1/3\n",
            "24/24 [==============================] - 40s 1s/step - loss: 4.3792 - accuracy: 0.4600 - val_loss: 0.6933 - val_accuracy: 0.4762\n",
            "Epoch 2/3\n",
            "24/24 [==============================] - 37s 2s/step - loss: 0.7408 - accuracy: 0.5067 - val_loss: 0.6938 - val_accuracy: 0.4762\n",
            "Epoch 3/3\n",
            "24/24 [==============================] - 35s 1s/step - loss: 0.6933 - accuracy: 0.4933 - val_loss: 0.6932 - val_accuracy: 0.5000\n",
            "10/10 [==============================] - 11s 1s/step - loss: 0.6934 - accuracy: 0.5000\n"
          ]
        }
      ]
    },
    {
      "cell_type": "code",
      "source": [
        "#InceptionV3\n",
        "model = Sequential()\n",
        "pretrained_model= InceptionV3(include_top=False,input_shape=(224,224,3),weights='imagenet')\n",
        "for layer in pretrained_model.layers:\n",
        "    layer.trainable=False\n",
        "model.add(pretrained_model)\n",
        "model.add(Flatten())\n",
        "model.add(Dense(200, activation='relu'))\n",
        "model.add(Dense(1, activation='sigmoid'))\n",
        "opt = keras.optimizers.Adam(learning_rate=0.001)\n",
        "model.compile(optimizer=opt, loss='binary_crossentropy', metrics=['accuracy'])\n",
        "\n",
        "model.fit(train_generator,steps_per_epoch=148/6,epochs=3,validation_data=validation_generator,validation_steps=40/6,verbose=1)\n",
        "h = model.evaluate(validation_generator,verbose=1)\n",
        "hist.append([h[0],h[1],\"InceptionV3\"])"
      ],
      "metadata": {
        "colab": {
          "base_uri": "https://localhost:8080/"
        },
        "id": "lywJJDUpZ0gc",
        "outputId": "43d37a5a-870b-4728-f8a8-9c7d4a5bf4fc"
      },
      "execution_count": null,
      "outputs": [
        {
          "output_type": "stream",
          "name": "stdout",
          "text": [
            "Downloading data from https://storage.googleapis.com/tensorflow/keras-applications/inception_v3/inception_v3_weights_tf_dim_ordering_tf_kernels_notop.h5\n",
            "87916544/87910968 [==============================] - 1s 0us/step\n",
            "87924736/87910968 [==============================] - 1s 0us/step\n",
            "Epoch 1/3\n",
            "24/24 [==============================] - 33s 1s/step - loss: 3.6415 - accuracy: 0.8800 - val_loss: 0.4373 - val_accuracy: 0.9762\n",
            "Epoch 2/3\n",
            "24/24 [==============================] - 26s 1s/step - loss: 0.7483 - accuracy: 0.9533 - val_loss: 1.4277 - val_accuracy: 0.9524\n",
            "Epoch 3/3\n",
            "24/24 [==============================] - 25s 1s/step - loss: 0.9704 - accuracy: 0.9533 - val_loss: 0.4333 - val_accuracy: 0.9762\n",
            "10/10 [==============================] - 8s 748ms/step - loss: 0.1085 - accuracy: 0.9833\n"
          ]
        }
      ]
    },
    {
      "cell_type": "code",
      "source": [
        "#InceptionResNetV2\n",
        "model = Sequential()\n",
        "pretrained_model= InceptionResNetV2(include_top=False,input_shape=(224,224,3),weights='imagenet')\n",
        "for layer in pretrained_model.layers:\n",
        "    layer.trainable=False\n",
        "model.add(pretrained_model)\n",
        "model.add(Flatten())\n",
        "model.add(Dense(200, activation='relu'))\n",
        "model.add(Dense(1, activation='sigmoid'))\n",
        "opt = keras.optimizers.Adam(learning_rate=0.001)\n",
        "model.compile(optimizer=opt, loss='binary_crossentropy', metrics=['accuracy'])\n",
        "\n",
        "model.fit(train_generator,steps_per_epoch=148/6,epochs=3,validation_data=validation_generator,validation_steps=40/6,verbose=1)\n",
        "h = model.evaluate(validation_generator,verbose=1)\n",
        "hist.append([h[0],h[1],\"InceptionResNetV2\"])"
      ],
      "metadata": {
        "colab": {
          "base_uri": "https://localhost:8080/"
        },
        "id": "eoRpStDjZ8CF",
        "outputId": "833bf8be-57f5-4491-82c1-ec53eae40593"
      },
      "execution_count": null,
      "outputs": [
        {
          "output_type": "stream",
          "name": "stdout",
          "text": [
            "Downloading data from https://storage.googleapis.com/tensorflow/keras-applications/inception_resnet_v2/inception_resnet_v2_weights_tf_dim_ordering_tf_kernels_notop.h5\n",
            "219062272/219055592 [==============================] - 2s 0us/step\n",
            "219070464/219055592 [==============================] - 2s 0us/step\n",
            "Epoch 1/3\n",
            "24/24 [==============================] - 63s 2s/step - loss: 4.9283 - accuracy: 0.8800 - val_loss: 1.4250 - val_accuracy: 0.9048\n",
            "Epoch 2/3\n",
            "24/24 [==============================] - 48s 2s/step - loss: 5.6568 - accuracy: 0.9133 - val_loss: 6.2325e-05 - val_accuracy: 1.0000\n",
            "Epoch 3/3\n",
            "24/24 [==============================] - 49s 2s/step - loss: 2.4723 - accuracy: 0.9533 - val_loss: 0.2205 - val_accuracy: 0.9762\n",
            "10/10 [==============================] - 15s 1s/step - loss: 7.0238 - accuracy: 0.8667\n"
          ]
        }
      ]
    },
    {
      "cell_type": "code",
      "source": [
        "#MobileNet\n",
        "model = Sequential()\n",
        "pretrained_model= MobileNet(include_top=False,input_shape=(224,224,3),weights='imagenet')\n",
        "for layer in pretrained_model.layers:\n",
        "    layer.trainable=False\n",
        "model.add(pretrained_model)\n",
        "model.add(Flatten())\n",
        "model.add(Dense(200, activation='relu'))\n",
        "model.add(Dense(1, activation='sigmoid'))\n",
        "opt = keras.optimizers.Adam(learning_rate=0.001)\n",
        "model.compile(optimizer=opt, loss='binary_crossentropy', metrics=['accuracy'])\n",
        "\n",
        "model.fit(train_generator,steps_per_epoch=148/6,epochs=3,validation_data=validation_generator,validation_steps=40/6,verbose=1)\n",
        "h = model.evaluate(validation_generator,verbose=1)\n",
        "hist.append([h[0],h[1],\"MobileNet\"])"
      ],
      "metadata": {
        "colab": {
          "base_uri": "https://localhost:8080/"
        },
        "id": "sE9kmaaUe9eB",
        "outputId": "0c0a5dad-ca1b-41f9-9555-312299aebc56"
      },
      "execution_count": null,
      "outputs": [
        {
          "output_type": "stream",
          "name": "stdout",
          "text": [
            "Downloading data from https://storage.googleapis.com/tensorflow/keras-applications/mobilenet/mobilenet_1_0_224_tf_no_top.h5\n",
            "17227776/17225924 [==============================] - 0s 0us/step\n",
            "17235968/17225924 [==============================] - 0s 0us/step\n",
            "Epoch 1/3\n",
            "24/24 [==============================] - 16s 592ms/step - loss: 5.5503 - accuracy: 0.8467 - val_loss: 3.2250 - val_accuracy: 0.9286\n",
            "Epoch 2/3\n",
            "24/24 [==============================] - 13s 528ms/step - loss: 0.7664 - accuracy: 0.9733 - val_loss: 6.7042e-11 - val_accuracy: 1.0000\n",
            "Epoch 3/3\n",
            "24/24 [==============================] - 13s 534ms/step - loss: 0.8913 - accuracy: 0.9667 - val_loss: 1.2457 - val_accuracy: 0.9762\n",
            "10/10 [==============================] - 5s 508ms/step - loss: 0.6548 - accuracy: 0.9500\n"
          ]
        }
      ]
    },
    {
      "cell_type": "code",
      "source": [
        "import pandas as pd\n",
        "df = pd.DataFrame(hist)\n",
        "df.columns = [\"loss\",\"accuracy\",\"model_name\"]"
      ],
      "metadata": {
        "id": "WdhG0jxkaFdP"
      },
      "execution_count": null,
      "outputs": []
    },
    {
      "cell_type": "code",
      "source": [
        "import seaborn as sns\n",
        "sns.set(style='dark')\n",
        "df.set_index('model_name').plot(kind='bar',color=['orange', 'blue'])"
      ],
      "metadata": {
        "colab": {
          "base_uri": "https://localhost:8080/",
          "height": 398
        },
        "id": "bIWPwIpOaIQs",
        "outputId": "0e2c6ebe-ef13-463d-d59c-eebb56bd276a"
      },
      "execution_count": null,
      "outputs": [
        {
          "output_type": "execute_result",
          "data": {
            "text/plain": [
              "<matplotlib.axes._subplots.AxesSubplot at 0x7f4c7b6c9b50>"
            ]
          },
          "metadata": {},
          "execution_count": 59
        },
        {
          "output_type": "display_data",
          "data": {
            "text/plain": [
              "<Figure size 432x288 with 1 Axes>"
            ],
            "image/png": "[encoded data removed]"
          },
          "metadata": {}
        }
      ]
    },
    {
      "cell_type": "code",
      "source": [
        ""
      ],
      "metadata": {
        "id": "aO1GezGJhttb"
      },
      "execution_count": null,
      "outputs": []
    }
  ]
}